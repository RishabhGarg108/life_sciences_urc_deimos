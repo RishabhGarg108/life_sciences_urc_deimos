{
 "cells": [
  {
   "cell_type": "code",
   "execution_count": 1,
   "id": "f434efca",
   "metadata": {},
   "outputs": [],
   "source": [
    "import os\n",
    "import cv2\n",
    "import random"
   ]
  },
  {
   "cell_type": "code",
   "execution_count": 2,
   "id": "2a7f9511",
   "metadata": {},
   "outputs": [],
   "source": [
    "try:\n",
    "    os.mkdir('data')\n",
    "    os.mkdir('data/Igneous')\n",
    "    os.mkdir('data/Sedimentary')\n",
    "    os.mkdir('data/Metamorphic')\n",
    "except Exception as e:\n",
    "    print(e)"
   ]
  },
  {
   "cell_type": "code",
   "execution_count": 3,
   "id": "45065722",
   "metadata": {},
   "outputs": [],
   "source": [
    "classes = ['Metamorphic', 'Sedimentary', 'Igneous']\n",
    "img_path = [[], [], []]\n",
    "\n",
    "def get_img_path(base_dir):\n",
    "    for i in range(len(classes)):\n",
    "        cls = classes[i]\n",
    "        dirnames, dirpath, filenames = next(os.walk(f'{base_dir}/{cls}'))\n",
    "        for cat in dirpath:\n",
    "            cat_path = dirnames + '/' + cat + '/'\n",
    "            dirnames_, dirpath_, filenames_ = next(os.walk(f'{cat_path}'))\n",
    "\n",
    "            img_path[i].extend([cat_path + x for x in os.listdir(cat_path)])"
   ]
  },
  {
   "cell_type": "code",
   "execution_count": 4,
   "id": "49472770",
   "metadata": {},
   "outputs": [],
   "source": [
    "get_img_path('data_orig_1')\n",
    "get_img_path('data_orig_2')"
   ]
  },
  {
   "cell_type": "code",
   "execution_count": 5,
   "id": "b89464cd",
   "metadata": {},
   "outputs": [],
   "source": [
    "for i in range(len(classes)):\n",
    "    cls = classes[i]\n",
    "    for j in range(len(img_path[i])):\n",
    "        src = img_path[i][j]\n",
    "        src_img = cv2.imread(src)\n",
    "        try:\n",
    "            cv2.imwrite('data/' + cls +'/' + str(j + 1).zfill(5) + '_1.jpg', src_img)\n",
    "            \n",
    "            src_img = cv2.rotate(src_img, random.randint(0, 2))\n",
    "            src_img = cv2.flip(src_img, random.randint(0, 1))\n",
    "            cv2.imwrite('data/' + cls +'/' + str(j + 1).zfill(5) + '_2.jpg', src_img)\n",
    "        except:\n",
    "            # GIF images throw this exception.\n",
    "            pass"
   ]
  }
 ],
 "metadata": {
  "kernelspec": {
   "display_name": "Python 3 (ipykernel)",
   "language": "python",
   "name": "python3"
  },
  "language_info": {
   "codemirror_mode": {
    "name": "ipython",
    "version": 3
   },
   "file_extension": ".py",
   "mimetype": "text/x-python",
   "name": "python",
   "nbconvert_exporter": "python",
   "pygments_lexer": "ipython3",
   "version": "3.9.9"
  }
 },
 "nbformat": 4,
 "nbformat_minor": 5
}
